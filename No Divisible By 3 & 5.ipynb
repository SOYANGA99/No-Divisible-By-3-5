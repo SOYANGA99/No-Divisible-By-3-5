{
 "cells": [
  {
   "cell_type": "code",
   "execution_count": 2,
   "id": "3eb77781",
   "metadata": {},
   "outputs": [
    {
     "name": "stdout",
     "output_type": "stream",
     "text": [
      "Enter A Number:-35\n",
      "No Is Not Divisible By 3 & 5\n"
     ]
    }
   ],
   "source": [
    "no= int(input(\"Enter A Number:-\"))\n",
    "if (no%3==0) and (no%5==0):\n",
    "    print(\"No Is Divisible By 3 & 5\")\n",
    "else:\n",
    "    print(\"No Is Not Divisible By 3 & 5\")"
   ]
  },
  {
   "cell_type": "code",
   "execution_count": null,
   "id": "950013b7",
   "metadata": {},
   "outputs": [],
   "source": []
  }
 ],
 "metadata": {
  "kernelspec": {
   "display_name": "Python 3 (ipykernel)",
   "language": "python",
   "name": "python3"
  },
  "language_info": {
   "codemirror_mode": {
    "name": "ipython",
    "version": 3
   },
   "file_extension": ".py",
   "mimetype": "text/x-python",
   "name": "python",
   "nbconvert_exporter": "python",
   "pygments_lexer": "ipython3",
   "version": "3.9.7"
  }
 },
 "nbformat": 4,
 "nbformat_minor": 5
}
